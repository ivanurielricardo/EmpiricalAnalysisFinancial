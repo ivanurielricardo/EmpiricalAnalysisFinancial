{
 "cells": [
  {
   "cell_type": "code",
   "execution_count": 38,
   "id": "665e202d",
   "metadata": {},
   "outputs": [
    {
     "data": {
      "text/html": [
       "\n",
       "  <style>\n",
       "    pre {\n",
       "        white-space: pre-wrap;\n",
       "    }\n",
       "  </style>\n",
       "  "
      ],
      "text/plain": [
       "<IPython.core.display.HTML object>"
      ]
     },
     "metadata": {},
     "output_type": "display_data"
    }
   ],
   "source": [
    "import pandas as pd\n",
    "import numpy as np \n",
    "import matplotlib.pyplot as plt"
   ]
  },
  {
   "cell_type": "code",
   "execution_count": 39,
   "id": "134ed60e",
   "metadata": {
    "scrolled": true
   },
   "outputs": [
    {
     "data": {
      "text/html": [
       "\n",
       "  <style>\n",
       "    pre {\n",
       "        white-space: pre-wrap;\n",
       "    }\n",
       "  </style>\n",
       "  "
      ],
      "text/plain": [
       "<IPython.core.display.HTML object>"
      ]
     },
     "metadata": {},
     "output_type": "display_data"
    },
    {
     "data": {
      "text/html": [
       "<div>\n",
       "<style scoped>\n",
       "    .dataframe tbody tr th:only-of-type {\n",
       "        vertical-align: middle;\n",
       "    }\n",
       "\n",
       "    .dataframe tbody tr th {\n",
       "        vertical-align: top;\n",
       "    }\n",
       "\n",
       "    .dataframe thead th {\n",
       "        text-align: right;\n",
       "    }\n",
       "</style>\n",
       "<table border=\"1\" class=\"dataframe\">\n",
       "  <thead>\n",
       "    <tr style=\"text-align: right;\">\n",
       "      <th></th>\n",
       "      <th>id</th>\n",
       "      <th>text</th>\n",
       "      <th>isRetweet</th>\n",
       "      <th>isDeleted</th>\n",
       "      <th>device</th>\n",
       "      <th>favorites</th>\n",
       "      <th>retweets</th>\n",
       "      <th>date</th>\n",
       "      <th>isFlagged</th>\n",
       "    </tr>\n",
       "  </thead>\n",
       "  <tbody>\n",
       "    <tr>\n",
       "      <th>0</th>\n",
       "      <td>6.110000e+17</td>\n",
       "      <td>\"\"\"@realJoeMurray: Hopefully tomorrow is the d...</td>\n",
       "      <td>f</td>\n",
       "      <td>f</td>\n",
       "      <td>Twitter for Android</td>\n",
       "      <td>68</td>\n",
       "      <td>40</td>\n",
       "      <td>16.06.2015</td>\n",
       "      <td>f</td>\n",
       "    </tr>\n",
       "    <tr>\n",
       "      <th>1</th>\n",
       "      <td>6.110000e+17</td>\n",
       "      <td>\"\"\"@brentcfritz: Today is the day America beco...</td>\n",
       "      <td>f</td>\n",
       "      <td>f</td>\n",
       "      <td>Twitter for Android</td>\n",
       "      <td>95</td>\n",
       "      <td>54</td>\n",
       "      <td>16.06.2015</td>\n",
       "      <td>f</td>\n",
       "    </tr>\n",
       "    <tr>\n",
       "      <th>2</th>\n",
       "      <td>6.110000e+17</td>\n",
       "      <td>\"\"\"@insuraider: @realDonaldTrump is going to m...</td>\n",
       "      <td>f</td>\n",
       "      <td>f</td>\n",
       "      <td>Twitter for Android</td>\n",
       "      <td>58</td>\n",
       "      <td>32</td>\n",
       "      <td>16.06.2015</td>\n",
       "      <td>f</td>\n",
       "    </tr>\n",
       "    <tr>\n",
       "      <th>3</th>\n",
       "      <td>6.110000e+17</td>\n",
       "      <td>\"\"\"@DONJUBBER: @realDonaldTrump Shock the worl...</td>\n",
       "      <td>f</td>\n",
       "      <td>f</td>\n",
       "      <td>Twitter for Android</td>\n",
       "      <td>32</td>\n",
       "      <td>17</td>\n",
       "      <td>16.06.2015</td>\n",
       "      <td>f</td>\n",
       "    </tr>\n",
       "    <tr>\n",
       "      <th>4</th>\n",
       "      <td>6.110000e+17</td>\n",
       "      <td>\"\"\"@PianoBecca: @realDonaldTrump No Amercian, ...</td>\n",
       "      <td>f</td>\n",
       "      <td>f</td>\n",
       "      <td>Twitter for Android</td>\n",
       "      <td>33</td>\n",
       "      <td>23</td>\n",
       "      <td>16.06.2015</td>\n",
       "      <td>f</td>\n",
       "    </tr>\n",
       "  </tbody>\n",
       "</table>\n",
       "</div>"
      ],
      "text/plain": [
       "             id                                               text isRetweet  \\\n",
       "0  6.110000e+17  \"\"\"@realJoeMurray: Hopefully tomorrow is the d...         f   \n",
       "1  6.110000e+17  \"\"\"@brentcfritz: Today is the day America beco...         f   \n",
       "2  6.110000e+17  \"\"\"@insuraider: @realDonaldTrump is going to m...         f   \n",
       "3  6.110000e+17  \"\"\"@DONJUBBER: @realDonaldTrump Shock the worl...         f   \n",
       "4  6.110000e+17  \"\"\"@PianoBecca: @realDonaldTrump No Amercian, ...         f   \n",
       "\n",
       "  isDeleted               device  favorites  retweets        date isFlagged  \n",
       "0         f  Twitter for Android         68        40  16.06.2015         f  \n",
       "1         f  Twitter for Android         95        54  16.06.2015         f  \n",
       "2         f  Twitter for Android         58        32  16.06.2015         f  \n",
       "3         f  Twitter for Android         32        17  16.06.2015         f  \n",
       "4         f  Twitter for Android         33        23  16.06.2015         f  "
      ]
     },
     "execution_count": 39,
     "metadata": {},
     "output_type": "execute_result"
    }
   ],
   "source": [
    "tweets = pd.read_csv('trump_tweets.csv')\n",
    "tweets.head()"
   ]
  },
  {
   "cell_type": "code",
   "execution_count": 28,
   "id": "5cdba927",
   "metadata": {},
   "outputs": [
    {
     "data": {
      "text/html": [
       "\n",
       "  <style>\n",
       "    pre {\n",
       "        white-space: pre-wrap;\n",
       "    }\n",
       "  </style>\n",
       "  "
      ],
      "text/plain": [
       "<IPython.core.display.HTML object>"
      ]
     },
     "metadata": {},
     "output_type": "display_data"
    },
    {
     "name": "stdout",
     "output_type": "stream",
     "text": [
      "===================\n",
      "11AM #MakeAmericaGreatAgain https://t.co/445bOdp6QY\n",
      " #MakeAmericaGreatAgain \n",
      "===================\n",
      "Trump Nat'l Golf Club Philadelphia, 360 beautiful acres as designed by Tom Fazio with views of the Philly skyline.  http://t.co/jha0m0W4Kk\n",
      "Trump Nat'l Golf Club Philadelphia,  beautiful acres as designed by Tom Fazio with views of the Philly skyline.  \n",
      "===================\n",
      "People buy deals &amp, immediately put them into bankruptcy in order to make better deals. It’s a very effective &amp, commonly used business tool.\n",
      "People buy deals &amp, immediately put them into bankruptcy in order to make better deals. It’s a very effective &amp, commonly used business tool.\n",
      "===================\n",
      "“TRUMP DECLARES VICTORY ON IMMIGRATION AS OBAMA ADMITS SOME ILLEGALS ARE ‘GANG BANGERS’” http://t.co/e0HLxf1dS2 via @BreitbartNews @ASwoyer\n",
      "“TRUMP DECLARES VICTORY ON IMMIGRATION AS OBAMA ADMITS SOME ILLEGALS ARE ‘GANG BANGERS’”  via  \n",
      "===================\n",
      "Dems have been complaining for months &amp, months about Dir. Comey. Now that he has been fired they PRETEND to be aggrieved. Phony hypocrites!\n",
      "Dems have been complaining for months &amp, months about Dir. Comey. Now that he has been fired they PRETEND to be aggrieved. Phony hypocrites!\n"
     ]
    }
   ],
   "source": [
    "import re\n",
    "\n",
    "def CleanText(text):\n",
    "    \n",
    "    # Remove URLs\n",
    "    text = re.sub('(http|ftp|https)[^\\s]*', '', text)\n",
    "    # Removes account handles\n",
    "    text = re.sub('@[^\\s]*', '', text)\n",
    "    # Removes emails\n",
    "    text = re.sub('[^\\s]+@[^\\s]\\.\\[^\\s]+', '', text)\n",
    "    # Remove strings with numbers\n",
    "    text = re.sub('[^\\s]*[0-9]+[^\\s]*', '', text)\n",
    "    \n",
    "    return text\n",
    "\n",
    "# Test on a couple of tweets\n",
    "sel = [23, 45,67,345,8762]\n",
    "\n",
    "for i in sel:\n",
    "  print(\"===================\")\n",
    "  print(tweets.text[i])\n",
    "  print(CleanText(tweets.text[i]))\n",
    "\n",
    "# Get the text of the tweets\n",
    "CleanTweets = [CleanText(text) for text in tweets.text]\n"
   ]
  },
  {
   "cell_type": "code",
   "execution_count": 13,
   "id": "7c132a1c",
   "metadata": {
    "scrolled": true
   },
   "outputs": [
    {
     "data": {
      "text/html": [
       "\n",
       "  <style>\n",
       "    pre {\n",
       "        white-space: pre-wrap;\n",
       "    }\n",
       "  </style>\n",
       "  "
      ],
      "text/plain": [
       "<IPython.core.display.HTML object>"
      ]
     },
     "metadata": {},
     "output_type": "display_data"
    },
    {
     "name": "stdout",
     "output_type": "stream",
     "text": [
      "Collecting vaderSentiment\n",
      "  Downloading vaderSentiment-3.3.2-py2.py3-none-any.whl (125 kB)\n",
      "\u001b[K     |████████████████████████████████| 125 kB 1.0 MB/s eta 0:00:01\n",
      "\u001b[?25hRequirement already satisfied: requests in /Users/Ivan/opt/anaconda3/lib/python3.9/site-packages (from vaderSentiment) (2.26.0)\n",
      "Requirement already satisfied: charset-normalizer~=2.0.0 in /Users/Ivan/opt/anaconda3/lib/python3.9/site-packages (from requests->vaderSentiment) (2.0.4)\n",
      "Requirement already satisfied: idna<4,>=2.5 in /Users/Ivan/opt/anaconda3/lib/python3.9/site-packages (from requests->vaderSentiment) (3.2)\n",
      "Requirement already satisfied: urllib3<1.27,>=1.21.1 in /Users/Ivan/opt/anaconda3/lib/python3.9/site-packages (from requests->vaderSentiment) (1.26.7)\n",
      "Requirement already satisfied: certifi>=2017.4.17 in /Users/Ivan/opt/anaconda3/lib/python3.9/site-packages (from requests->vaderSentiment) (2021.10.8)\n",
      "Installing collected packages: vaderSentiment\n",
      "Successfully installed vaderSentiment-3.3.2\n"
     ]
    }
   ],
   "source": [
    "!pip install vaderSentiment"
   ]
  },
  {
   "cell_type": "code",
   "execution_count": 19,
   "id": "d59a8a94",
   "metadata": {},
   "outputs": [
    {
     "data": {
      "text/html": [
       "\n",
       "  <style>\n",
       "    pre {\n",
       "        white-space: pre-wrap;\n",
       "    }\n",
       "  </style>\n",
       "  "
      ],
      "text/plain": [
       "<IPython.core.display.HTML object>"
      ]
     },
     "metadata": {},
     "output_type": "display_data"
    }
   ],
   "source": [
    "import vaderSentiment\n",
    "from vaderSentiment.vaderSentiment import SentimentIntensityAnalyzer"
   ]
  },
  {
   "cell_type": "code",
   "execution_count": 20,
   "id": "1719f8bd",
   "metadata": {},
   "outputs": [
    {
     "data": {
      "text/html": [
       "\n",
       "  <style>\n",
       "    pre {\n",
       "        white-space: pre-wrap;\n",
       "    }\n",
       "  </style>\n",
       "  "
      ],
      "text/plain": [
       "<IPython.core.display.HTML object>"
      ]
     },
     "metadata": {},
     "output_type": "display_data"
    }
   ],
   "source": [
    "def sentiment_scores(sentence):\n",
    " \n",
    "    # Create a SentimentIntensityAnalyzer object.\n",
    "    sid_obj = SentimentIntensityAnalyzer()\n",
    " \n",
    "    # polarity_scores method of SentimentIntensityAnalyzer\n",
    "    # object gives a sentiment dictionary.\n",
    "    # which contains pos, neg, neu, and compound scores.\n",
    "    sentiment_dict = sid_obj.polarity_scores(sentence)\n",
    "     \n",
    "    print(\"Overall sentiment dictionary is : \", sentiment_dict)\n",
    "    print(\"sentence was rated as \", sentiment_dict['neg']*100, \"% Negative\")\n",
    "    print(\"sentence was rated as \", sentiment_dict['neu']*100, \"% Neutral\")\n",
    "    print(\"sentence was rated as \", sentiment_dict['pos']*100, \"% Positive\")\n",
    " \n",
    "    print(\"Sentence Overall Rated As\", end = \" \")\n",
    " \n",
    "    # decide sentiment as positive, negative and neutral\n",
    "    if sentiment_dict['compound'] >= 0.05 :\n",
    "        print(\"Positive\")\n",
    " \n",
    "    elif sentiment_dict['compound'] <= - 0.05 :\n",
    "        print(\"Negative\")\n",
    " \n",
    "    else :\n",
    "        print(\"Neutral\")"
   ]
  },
  {
   "cell_type": "code",
   "execution_count": 23,
   "id": "13a4bca1",
   "metadata": {},
   "outputs": [
    {
     "data": {
      "text/html": [
       "\n",
       "  <style>\n",
       "    pre {\n",
       "        white-space: pre-wrap;\n",
       "    }\n",
       "  </style>\n",
       "  "
      ],
      "text/plain": [
       "<IPython.core.display.HTML object>"
      ]
     },
     "metadata": {},
     "output_type": "display_data"
    },
    {
     "name": "stdout",
     "output_type": "stream",
     "text": [
      "\"\"\"@aldeguer_elsa:  @American1st @ofccadjust @AnnCoulter @JebBush HISPANICS UNITED TO MAKE AMERICA GREAT AGAIN #Trump http://t.co/P5Oh6fhMIa\"\"\"\n"
     ]
    }
   ],
   "source": [
    "sentence = tweets.text[2333]\n",
    "print(sentence)"
   ]
  },
  {
   "cell_type": "code",
   "execution_count": 24,
   "id": "b082a62d",
   "metadata": {},
   "outputs": [
    {
     "data": {
      "text/html": [
       "\n",
       "  <style>\n",
       "    pre {\n",
       "        white-space: pre-wrap;\n",
       "    }\n",
       "  </style>\n",
       "  "
      ],
      "text/plain": [
       "<IPython.core.display.HTML object>"
      ]
     },
     "metadata": {},
     "output_type": "display_data"
    },
    {
     "name": "stdout",
     "output_type": "stream",
     "text": [
      "Overall sentiment dictionary is :  {'neg': 0.0, 'neu': 0.589, 'pos': 0.411, 'compound': 0.8543}\n",
      "sentence was rated as  0.0 % Negative\n",
      "sentence was rated as  58.9 % Neutral\n",
      "sentence was rated as  41.099999999999994 % Positive\n",
      "Sentence Overall Rated As Positive\n"
     ]
    }
   ],
   "source": [
    "sentiment_scores(sentence)"
   ]
  },
  {
   "cell_type": "code",
   "execution_count": 46,
   "id": "d9790c8c",
   "metadata": {},
   "outputs": [
    {
     "data": {
      "text/html": [
       "\n",
       "  <style>\n",
       "    pre {\n",
       "        white-space: pre-wrap;\n",
       "    }\n",
       "  </style>\n",
       "  "
      ],
      "text/plain": [
       "<IPython.core.display.HTML object>"
      ]
     },
     "metadata": {},
     "output_type": "display_data"
    }
   ],
   "source": [
    "def neg_raw_sentiment_scores(text):\n",
    "    sid_obj = SentimentIntensityAnalyzer()\n",
    "    sentiment_dict = sid_obj.polarity_scores(text)\n",
    "    return sentiment_dict['neg']\n",
    "\n",
    "def pos_raw_sentiment_scores(text):\n",
    "    sid_obj = SentimentIntensityAnalyzer()\n",
    "    sentiment_dict = sid_obj.polarity_scores(text)\n",
    "    return sentiment_dict['pos']\n",
    "\n",
    "def neu_raw_sentiment_scores(text):\n",
    "    sid_obj = SentimentIntensityAnalyzer()\n",
    "    sentiment_dict = sid_obj.polarity_scores(text)\n",
    "    return sentiment_dict['neu']"
   ]
  },
  {
   "cell_type": "code",
   "execution_count": 52,
   "id": "d79ae528",
   "metadata": {},
   "outputs": [
    {
     "data": {
      "text/html": [
       "\n",
       "  <style>\n",
       "    pre {\n",
       "        white-space: pre-wrap;\n",
       "    }\n",
       "  </style>\n",
       "  "
      ],
      "text/plain": [
       "<IPython.core.display.HTML object>"
      ]
     },
     "metadata": {},
     "output_type": "display_data"
    },
    {
     "data": {
      "text/html": [
       "<div>\n",
       "<style scoped>\n",
       "    .dataframe tbody tr th:only-of-type {\n",
       "        vertical-align: middle;\n",
       "    }\n",
       "\n",
       "    .dataframe tbody tr th {\n",
       "        vertical-align: top;\n",
       "    }\n",
       "\n",
       "    .dataframe thead th {\n",
       "        text-align: right;\n",
       "    }\n",
       "</style>\n",
       "<table border=\"1\" class=\"dataframe\">\n",
       "  <thead>\n",
       "    <tr style=\"text-align: right;\">\n",
       "      <th></th>\n",
       "      <th>id</th>\n",
       "      <th>text</th>\n",
       "      <th>isRetweet</th>\n",
       "      <th>isDeleted</th>\n",
       "      <th>device</th>\n",
       "      <th>favorites</th>\n",
       "      <th>retweets</th>\n",
       "      <th>date</th>\n",
       "      <th>isFlagged</th>\n",
       "      <th>positive</th>\n",
       "      <th>negative</th>\n",
       "      <th>neutral</th>\n",
       "    </tr>\n",
       "  </thead>\n",
       "  <tbody>\n",
       "    <tr>\n",
       "      <th>0</th>\n",
       "      <td>6.110000e+17</td>\n",
       "      <td>\"\"\"@realJoeMurray: Hopefully tomorrow is the d...</td>\n",
       "      <td>f</td>\n",
       "      <td>f</td>\n",
       "      <td>Twitter for Android</td>\n",
       "      <td>68</td>\n",
       "      <td>40</td>\n",
       "      <td>16.06.2015</td>\n",
       "      <td>f</td>\n",
       "      <td>0.294</td>\n",
       "      <td>0.000</td>\n",
       "      <td>0.706</td>\n",
       "    </tr>\n",
       "    <tr>\n",
       "      <th>1</th>\n",
       "      <td>6.110000e+17</td>\n",
       "      <td>\"\"\"@brentcfritz: Today is the day America beco...</td>\n",
       "      <td>f</td>\n",
       "      <td>f</td>\n",
       "      <td>Twitter for Android</td>\n",
       "      <td>95</td>\n",
       "      <td>54</td>\n",
       "      <td>16.06.2015</td>\n",
       "      <td>f</td>\n",
       "      <td>0.246</td>\n",
       "      <td>0.100</td>\n",
       "      <td>0.654</td>\n",
       "    </tr>\n",
       "    <tr>\n",
       "      <th>2</th>\n",
       "      <td>6.110000e+17</td>\n",
       "      <td>\"\"\"@insuraider: @realDonaldTrump is going to m...</td>\n",
       "      <td>f</td>\n",
       "      <td>f</td>\n",
       "      <td>Twitter for Android</td>\n",
       "      <td>58</td>\n",
       "      <td>32</td>\n",
       "      <td>16.06.2015</td>\n",
       "      <td>f</td>\n",
       "      <td>0.263</td>\n",
       "      <td>0.000</td>\n",
       "      <td>0.737</td>\n",
       "    </tr>\n",
       "    <tr>\n",
       "      <th>3</th>\n",
       "      <td>6.110000e+17</td>\n",
       "      <td>\"\"\"@DONJUBBER: @realDonaldTrump Shock the worl...</td>\n",
       "      <td>f</td>\n",
       "      <td>f</td>\n",
       "      <td>Twitter for Android</td>\n",
       "      <td>32</td>\n",
       "      <td>17</td>\n",
       "      <td>16.06.2015</td>\n",
       "      <td>f</td>\n",
       "      <td>0.000</td>\n",
       "      <td>0.420</td>\n",
       "      <td>0.580</td>\n",
       "    </tr>\n",
       "    <tr>\n",
       "      <th>4</th>\n",
       "      <td>6.110000e+17</td>\n",
       "      <td>\"\"\"@PianoBecca: @realDonaldTrump No Amercian, ...</td>\n",
       "      <td>f</td>\n",
       "      <td>f</td>\n",
       "      <td>Twitter for Android</td>\n",
       "      <td>33</td>\n",
       "      <td>23</td>\n",
       "      <td>16.06.2015</td>\n",
       "      <td>f</td>\n",
       "      <td>0.438</td>\n",
       "      <td>0.076</td>\n",
       "      <td>0.486</td>\n",
       "    </tr>\n",
       "  </tbody>\n",
       "</table>\n",
       "</div>"
      ],
      "text/plain": [
       "             id                                               text isRetweet  \\\n",
       "0  6.110000e+17  \"\"\"@realJoeMurray: Hopefully tomorrow is the d...         f   \n",
       "1  6.110000e+17  \"\"\"@brentcfritz: Today is the day America beco...         f   \n",
       "2  6.110000e+17  \"\"\"@insuraider: @realDonaldTrump is going to m...         f   \n",
       "3  6.110000e+17  \"\"\"@DONJUBBER: @realDonaldTrump Shock the worl...         f   \n",
       "4  6.110000e+17  \"\"\"@PianoBecca: @realDonaldTrump No Amercian, ...         f   \n",
       "\n",
       "  isDeleted               device  favorites  retweets        date isFlagged  \\\n",
       "0         f  Twitter for Android         68        40  16.06.2015         f   \n",
       "1         f  Twitter for Android         95        54  16.06.2015         f   \n",
       "2         f  Twitter for Android         58        32  16.06.2015         f   \n",
       "3         f  Twitter for Android         32        17  16.06.2015         f   \n",
       "4         f  Twitter for Android         33        23  16.06.2015         f   \n",
       "\n",
       "   positive  negative  neutral  \n",
       "0     0.294     0.000    0.706  \n",
       "1     0.246     0.100    0.654  \n",
       "2     0.263     0.000    0.737  \n",
       "3     0.000     0.420    0.580  \n",
       "4     0.438     0.076    0.486  "
      ]
     },
     "execution_count": 52,
     "metadata": {},
     "output_type": "execute_result"
    }
   ],
   "source": [
    "tweets['positive'] = tweets['text'].apply(pos_raw_sentiment_scores)\n",
    "tweets['negative'] = tweets['text'].apply(neg_raw_sentiment_scores)\n",
    "tweets['neutral'] = tweets['text'].apply(neu_raw_sentiment_scores)\n",
    "tweets.head()"
   ]
  }
 ],
 "metadata": {
  "kernelspec": {
   "display_name": "Python 3 (ipykernel)",
   "language": "python",
   "name": "python3"
  },
  "language_info": {
   "codemirror_mode": {
    "name": "ipython",
    "version": 3
   },
   "file_extension": ".py",
   "mimetype": "text/x-python",
   "name": "python",
   "nbconvert_exporter": "python",
   "pygments_lexer": "ipython3",
   "version": "3.9.7"
  }
 },
 "nbformat": 4,
 "nbformat_minor": 5
}
